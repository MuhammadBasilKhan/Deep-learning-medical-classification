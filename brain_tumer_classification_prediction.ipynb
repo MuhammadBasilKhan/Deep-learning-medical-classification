{
  "nbformat": 4,
  "nbformat_minor": 0,
  "metadata": {
    "colab": {
      "provenance": [],
      "gpuType": "T4",
      "authorship_tag": "ABX9TyMzDkdGJaQfdEetN/1r0WlM",
      "include_colab_link": true
    },
    "kernelspec": {
      "name": "python3",
      "display_name": "Python 3"
    },
    "language_info": {
      "name": "python"
    },
    "accelerator": "GPU"
  },
  "cells": [
    {
      "cell_type": "markdown",
      "metadata": {
        "id": "view-in-github",
        "colab_type": "text"
      },
      "source": [
        "<a href=\"https://colab.research.google.com/github/MuhammadBasilKhan/Brain-Tumer-classification/blob/main/brain_tumer_classification_prediction.ipynb\" target=\"_parent\"><img src=\"https://colab.research.google.com/assets/colab-badge.svg\" alt=\"Open In Colab\"/></a>"
      ]
    },
    {
      "cell_type": "code",
      "source": [
        "from google.colab import drive\n",
        "drive.mount('/content/drive')\n"
      ],
      "metadata": {
        "colab": {
          "base_uri": "https://localhost:8080/"
        },
        "id": "b9mJk9uDnIJ3",
        "outputId": "e43be9b6-3f3a-49c5-a2eb-e5be63236bce"
      },
      "execution_count": null,
      "outputs": [
        {
          "output_type": "stream",
          "name": "stdout",
          "text": [
            "Mounted at /content/drive\n"
          ]
        }
      ]
    },
    {
      "cell_type": "code",
      "execution_count": null,
      "metadata": {
        "id": "k0tQ4hMIlBQa"
      },
      "outputs": [],
      "source": [
        "import numpy as np\n",
        "import cv2\n",
        "import os\n",
        "import random\n",
        "import matplotlib.pyplot as plt\n",
        "import pickle\n"
      ]
    },
    {
      "cell_type": "code",
      "source": [
        "dir='/content/drive/MyDrive/chesse pics and brain tumer data'\n",
        "categories=['Astrocitoma T1','Astrocitoma T1C+','Astrocitoma T2']\n",
        "categories1=['Carcinoma T1','Carcinoma T1C+','Carcinoma T2']\n",
        "categories2=['Ependimoma T1','Ependimoma T1C+','Ependimoma T2']\n",
        "categories3=['Ganglioglioma T1','Ganglioglioma T1C+','Ganglioglioma T2']\n",
        "categories4=['Germinoma T1','Germinoma T1C+','Germinoma T2']\n",
        "categories5=['Glioblastoma T1','Glioblastoma T1C+','Glioblastoma T2']\n",
        "categories6=['Granuloma T1','Granuloma T1C+','Granuloma T2']\n",
        "categories7=['Meduloblastoma T1','Meduloblastoma T1C+','Meduloblastoma T2']\n",
        "categories8=['Meningioma T1','Meningioma T1C+','Meningioma T2']\n",
        "categoires9=['Neurocitoma T1','Neurocitoma T1C+','Neurocitoma T2']\n",
        "categories10=['Oligodendroglioma T1','Oligodendroglioma T1C+','Oligodendroglioma T2']\n",
        "categoies11=['Papiloma T1','Papiloma T1C+','Papiloma T2']\n",
        "categories12=['Schwannoma T1','Schwannoma T1C+','Schwannoma T2']\n",
        "categories13=['Tuberculoma T1','Tuberculoma T1C+','Tuberculoma T2']\n",
        "categories14=['_NORMAL T1','_NORMAL T2']\n"
      ],
      "metadata": {
        "id": "FQe2_Fm4mnef"
      },
      "execution_count": null,
      "outputs": []
    },
    {
      "cell_type": "code",
      "source": [
        "imgsize=100\n",
        "data=[]\n",
        "for category in categories:\n",
        "  folder=os.path.join(dir,category)\n",
        "  label=categories.index(category)\n",
        "  for img in os.listdir(folder):\n",
        "    img_path=os.path.join(folder,img)\n",
        "    img_arr=cv2.imread(img_path)\n",
        "    img_arr=cv2.resize(img_arr,(imgsize,imgsize))\n",
        "    data.append([img_arr,label])\n",
        "for category in categories1:\n",
        "  folder=os.path.join(dir,category)\n",
        "  label=categories1.index(category)\n",
        "  for img in os.listdir(folder):\n",
        "    img_path=os.path.join(folder,img)\n",
        "    img_arr=cv2.imread(img_path)\n",
        "    img_arr=cv2.resize(img_arr,(imgsize,imgsize))\n",
        "    data.append([img_arr,label])\n",
        "for category in categories2:\n",
        "  folder=os.path.join(dir,category)\n",
        "  label=categories2.index(category)\n",
        "  for img in os.listdir(folder):\n",
        "    img_path=os.path.join(folder,img)\n",
        "    img_arr=cv2.imread(img_path)\n",
        "    img_arr=cv2.resize(img_arr,(imgsize,imgsize))\n",
        "    data.append([img_arr,label])\n",
        "for category in categories3:\n",
        "  folder=os.path.join(dir,category)\n",
        "  label=categories3.index(category)\n",
        "  for img in os.listdir(folder):\n",
        "    img_path=os.path.join(folder,img)\n",
        "    img_arr=cv2.imread(img_path)\n",
        "    img_arr=cv2.resize(img_arr,(imgsize,imgsize))\n",
        "    data.append([img_arr,label])\n",
        "for category in categories4:\n",
        "  folder=os.path.join(dir,category)\n",
        "  label=categories4.index(category)\n",
        "  for img in os.listdir(folder):\n",
        "    img_path=os.path.join(folder,img)\n",
        "    img_arr=cv2.imread(img_path)\n",
        "    img_arr=cv2.resize(img_arr,(imgsize,imgsize))\n",
        "    data.append([img_arr,label])\n",
        "for category in categories5:\n",
        "  folder=os.path.join(dir,category)\n",
        "  label=categories5.index(category)\n",
        "  for img in os.listdir(folder):\n",
        "    img_path=os.path.join(folder,img)\n",
        "    img_arr=cv2.imread(img_path)\n",
        "    img_arr=cv2.resize(img_arr,(imgsize,imgsize))\n",
        "    data.append([img_arr,label])\n",
        "for category in categories6:\n",
        "  folder=os.path.join(dir,category)\n",
        "  label=categories6.index(category)\n",
        "  for img in os.listdir(folder):\n",
        "    img_path=os.path.join(folder,img)\n",
        "    img_arr=cv2.imread(img_path)\n",
        "    img_arr=cv2.resize(img_arr,(imgsize,imgsize))\n",
        "    data.append([img_arr,label])\n",
        "for category in categories7:\n",
        "  folder=os.path.join(dir,category)\n",
        "  label=categories7.index(category)\n",
        "  for img in os.listdir(folder):\n",
        "    img_path=os.path.join(folder,img)\n",
        "    img_arr=cv2.imread(img_path)\n",
        "    img_arr=cv2.resize(img_arr,(imgsize,imgsize))\n",
        "    data.append([img_arr,label])\n",
        "for category in categories8:\n",
        "  folder=os.path.join(dir,category)\n",
        "  label=categories8.index(category)\n",
        "  for img in os.listdir(folder):\n",
        "    img_path=os.path.join(folder,img)\n",
        "    img_arr=cv2.imread(img_path)\n",
        "    img_arr=cv2.resize(img_arr,(imgsize,imgsize))\n",
        "    data.append([img_arr,label])\n",
        "for category in categoires9:\n",
        "  folder=os.path.join(dir,category)\n",
        "  label=categoires9.index(category)\n",
        "  for img in os.listdir(folder):\n",
        "    img_path=os.path.join(folder,img)\n",
        "    img_arr=cv2.imread(img_path)\n",
        "    img_arr=cv2.resize(img_arr,(imgsize,imgsize))\n",
        "    data.append([img_arr,label])\n",
        "for category in categories10:\n",
        "  folder=os.path.join(dir,category)\n",
        "  label=categories10.index(category)\n",
        "  for img in os.listdir(folder):\n",
        "    img_path=os.path.join(folder,img)\n",
        "    img_arr=cv2.imread(img_path)\n",
        "    img_arr=cv2.resize(img_arr,(imgsize,imgsize))\n",
        "    data.append([img_arr,label])\n",
        "for category in categoies11:\n",
        "  folder=os.path.join(dir,category)\n",
        "  label=categoies11.index(category)\n",
        "  for img in os.listdir(folder):\n",
        "    img_path=os.path.join(folder,img)\n",
        "    img_arr=cv2.imread(img_path)\n",
        "    img_arr=cv2.resize(img_arr,(imgsize,imgsize))\n",
        "    data.append([img_arr,label])\n",
        "for category in categories12:\n",
        "  folder=os.path.join(dir,category)\n",
        "  label=categories12.index(category)\n",
        "  for img in os.listdir(folder):\n",
        "    img_path=os.path.join(folder,img)\n",
        "    img_arr=cv2.imread(img_path)\n",
        "    img_arr=cv2.resize(img_arr,(imgsize,imgsize))\n",
        "    data.append([img_arr,label])\n",
        "for category in categories13:\n",
        "  folder=os.path.join(dir,category)\n",
        "  label=categories13.index(category)\n",
        "  for img in os.listdir(folder):\n",
        "    img_path=os.path.join(folder,img)\n",
        "    img_arr=cv2.imread(img_path)\n",
        "    img_arr=cv2.resize(img_arr,(imgsize,imgsize))\n",
        "    data.append([img_arr,label])\n",
        "for category in categories14:\n",
        "  folder=os.path.join(dir,category)\n",
        "  label=categories14.index(category)\n",
        "  for img in os.listdir(folder):\n",
        "    img_path=os.path.join(folder,img)\n",
        "    img_arr=cv2.imread(img_path)\n",
        "    img_arr=cv2.resize(img_arr,(imgsize,imgsize))\n",
        "    data.append([img_arr,label])"
      ],
      "metadata": {
        "id": "VZDrWo8Msgrd"
      },
      "execution_count": null,
      "outputs": []
    },
    {
      "cell_type": "code",
      "source": [
        "import pandas as pd\n",
        "df=pd.DataFrame(data)\n",
        "df.head(10)"
      ],
      "metadata": {
        "colab": {
          "base_uri": "https://localhost:8080/",
          "height": 679
        },
        "id": "ibKaIeGYKxyA",
        "outputId": "8f308e1f-342b-4341-862b-d75303f2de52"
      },
      "execution_count": null,
      "outputs": [
        {
          "output_type": "execute_result",
          "data": {
            "text/plain": [
              "                                                   0  1\n",
              "0  [[[0, 0, 0], [0, 0, 0], [0, 0, 0], [0, 0, 0], ...  0\n",
              "1  [[[0, 0, 0], [0, 0, 0], [0, 0, 0], [0, 0, 0], ...  0\n",
              "2  [[[2, 2, 2], [2, 2, 2], [2, 2, 2], [2, 2, 2], ...  0\n",
              "3  [[[9, 9, 9], [9, 9, 9], [9, 9, 9], [9, 9, 9], ...  0\n",
              "4  [[[2, 2, 2], [2, 2, 2], [2, 2, 2], [2, 2, 2], ...  0\n",
              "5  [[[0, 0, 0], [0, 0, 0], [0, 0, 0], [0, 0, 0], ...  0\n",
              "6  [[[2, 2, 2], [2, 2, 2], [2, 2, 2], [2, 2, 2], ...  0\n",
              "7  [[[0, 0, 0], [0, 0, 0], [0, 0, 0], [0, 0, 0], ...  0\n",
              "8  [[[2, 2, 2], [2, 2, 2], [2, 2, 2], [2, 2, 2], ...  0\n",
              "9  [[[0, 0, 0], [0, 0, 0], [0, 0, 0], [0, 0, 0], ...  0"
            ],
            "text/html": [
              "\n",
              "  <div id=\"df-636430ae-ea42-407e-8e57-cf2e890f4478\" class=\"colab-df-container\">\n",
              "    <div>\n",
              "<style scoped>\n",
              "    .dataframe tbody tr th:only-of-type {\n",
              "        vertical-align: middle;\n",
              "    }\n",
              "\n",
              "    .dataframe tbody tr th {\n",
              "        vertical-align: top;\n",
              "    }\n",
              "\n",
              "    .dataframe thead th {\n",
              "        text-align: right;\n",
              "    }\n",
              "</style>\n",
              "<table border=\"1\" class=\"dataframe\">\n",
              "  <thead>\n",
              "    <tr style=\"text-align: right;\">\n",
              "      <th></th>\n",
              "      <th>0</th>\n",
              "      <th>1</th>\n",
              "    </tr>\n",
              "  </thead>\n",
              "  <tbody>\n",
              "    <tr>\n",
              "      <th>0</th>\n",
              "      <td>[[[0, 0, 0], [0, 0, 0], [0, 0, 0], [0, 0, 0], ...</td>\n",
              "      <td>0</td>\n",
              "    </tr>\n",
              "    <tr>\n",
              "      <th>1</th>\n",
              "      <td>[[[0, 0, 0], [0, 0, 0], [0, 0, 0], [0, 0, 0], ...</td>\n",
              "      <td>0</td>\n",
              "    </tr>\n",
              "    <tr>\n",
              "      <th>2</th>\n",
              "      <td>[[[2, 2, 2], [2, 2, 2], [2, 2, 2], [2, 2, 2], ...</td>\n",
              "      <td>0</td>\n",
              "    </tr>\n",
              "    <tr>\n",
              "      <th>3</th>\n",
              "      <td>[[[9, 9, 9], [9, 9, 9], [9, 9, 9], [9, 9, 9], ...</td>\n",
              "      <td>0</td>\n",
              "    </tr>\n",
              "    <tr>\n",
              "      <th>4</th>\n",
              "      <td>[[[2, 2, 2], [2, 2, 2], [2, 2, 2], [2, 2, 2], ...</td>\n",
              "      <td>0</td>\n",
              "    </tr>\n",
              "    <tr>\n",
              "      <th>5</th>\n",
              "      <td>[[[0, 0, 0], [0, 0, 0], [0, 0, 0], [0, 0, 0], ...</td>\n",
              "      <td>0</td>\n",
              "    </tr>\n",
              "    <tr>\n",
              "      <th>6</th>\n",
              "      <td>[[[2, 2, 2], [2, 2, 2], [2, 2, 2], [2, 2, 2], ...</td>\n",
              "      <td>0</td>\n",
              "    </tr>\n",
              "    <tr>\n",
              "      <th>7</th>\n",
              "      <td>[[[0, 0, 0], [0, 0, 0], [0, 0, 0], [0, 0, 0], ...</td>\n",
              "      <td>0</td>\n",
              "    </tr>\n",
              "    <tr>\n",
              "      <th>8</th>\n",
              "      <td>[[[2, 2, 2], [2, 2, 2], [2, 2, 2], [2, 2, 2], ...</td>\n",
              "      <td>0</td>\n",
              "    </tr>\n",
              "    <tr>\n",
              "      <th>9</th>\n",
              "      <td>[[[0, 0, 0], [0, 0, 0], [0, 0, 0], [0, 0, 0], ...</td>\n",
              "      <td>0</td>\n",
              "    </tr>\n",
              "  </tbody>\n",
              "</table>\n",
              "</div>\n",
              "    <div class=\"colab-df-buttons\">\n",
              "\n",
              "  <div class=\"colab-df-container\">\n",
              "    <button class=\"colab-df-convert\" onclick=\"convertToInteractive('df-636430ae-ea42-407e-8e57-cf2e890f4478')\"\n",
              "            title=\"Convert this dataframe to an interactive table.\"\n",
              "            style=\"display:none;\">\n",
              "\n",
              "  <svg xmlns=\"http://www.w3.org/2000/svg\" height=\"24px\" viewBox=\"0 -960 960 960\">\n",
              "    <path d=\"M120-120v-720h720v720H120Zm60-500h600v-160H180v160Zm220 220h160v-160H400v160Zm0 220h160v-160H400v160ZM180-400h160v-160H180v160Zm440 0h160v-160H620v160ZM180-180h160v-160H180v160Zm440 0h160v-160H620v160Z\"/>\n",
              "  </svg>\n",
              "    </button>\n",
              "\n",
              "  <style>\n",
              "    .colab-df-container {\n",
              "      display:flex;\n",
              "      gap: 12px;\n",
              "    }\n",
              "\n",
              "    .colab-df-convert {\n",
              "      background-color: #E8F0FE;\n",
              "      border: none;\n",
              "      border-radius: 50%;\n",
              "      cursor: pointer;\n",
              "      display: none;\n",
              "      fill: #1967D2;\n",
              "      height: 32px;\n",
              "      padding: 0 0 0 0;\n",
              "      width: 32px;\n",
              "    }\n",
              "\n",
              "    .colab-df-convert:hover {\n",
              "      background-color: #E2EBFA;\n",
              "      box-shadow: 0px 1px 2px rgba(60, 64, 67, 0.3), 0px 1px 3px 1px rgba(60, 64, 67, 0.15);\n",
              "      fill: #174EA6;\n",
              "    }\n",
              "\n",
              "    .colab-df-buttons div {\n",
              "      margin-bottom: 4px;\n",
              "    }\n",
              "\n",
              "    [theme=dark] .colab-df-convert {\n",
              "      background-color: #3B4455;\n",
              "      fill: #D2E3FC;\n",
              "    }\n",
              "\n",
              "    [theme=dark] .colab-df-convert:hover {\n",
              "      background-color: #434B5C;\n",
              "      box-shadow: 0px 1px 3px 1px rgba(0, 0, 0, 0.15);\n",
              "      filter: drop-shadow(0px 1px 2px rgba(0, 0, 0, 0.3));\n",
              "      fill: #FFFFFF;\n",
              "    }\n",
              "  </style>\n",
              "\n",
              "    <script>\n",
              "      const buttonEl =\n",
              "        document.querySelector('#df-636430ae-ea42-407e-8e57-cf2e890f4478 button.colab-df-convert');\n",
              "      buttonEl.style.display =\n",
              "        google.colab.kernel.accessAllowed ? 'block' : 'none';\n",
              "\n",
              "      async function convertToInteractive(key) {\n",
              "        const element = document.querySelector('#df-636430ae-ea42-407e-8e57-cf2e890f4478');\n",
              "        const dataTable =\n",
              "          await google.colab.kernel.invokeFunction('convertToInteractive',\n",
              "                                                    [key], {});\n",
              "        if (!dataTable) return;\n",
              "\n",
              "        const docLinkHtml = 'Like what you see? Visit the ' +\n",
              "          '<a target=\"_blank\" href=https://colab.research.google.com/notebooks/data_table.ipynb>data table notebook</a>'\n",
              "          + ' to learn more about interactive tables.';\n",
              "        element.innerHTML = '';\n",
              "        dataTable['output_type'] = 'display_data';\n",
              "        await google.colab.output.renderOutput(dataTable, element);\n",
              "        const docLink = document.createElement('div');\n",
              "        docLink.innerHTML = docLinkHtml;\n",
              "        element.appendChild(docLink);\n",
              "      }\n",
              "    </script>\n",
              "  </div>\n",
              "\n",
              "\n",
              "<div id=\"df-16738dc6-a6ad-4602-b883-a6386d52f752\">\n",
              "  <button class=\"colab-df-quickchart\" onclick=\"quickchart('df-16738dc6-a6ad-4602-b883-a6386d52f752')\"\n",
              "            title=\"Suggest charts.\"\n",
              "            style=\"display:none;\">\n",
              "\n",
              "<svg xmlns=\"http://www.w3.org/2000/svg\" height=\"24px\"viewBox=\"0 0 24 24\"\n",
              "     width=\"24px\">\n",
              "    <g>\n",
              "        <path d=\"M19 3H5c-1.1 0-2 .9-2 2v14c0 1.1.9 2 2 2h14c1.1 0 2-.9 2-2V5c0-1.1-.9-2-2-2zM9 17H7v-7h2v7zm4 0h-2V7h2v10zm4 0h-2v-4h2v4z\"/>\n",
              "    </g>\n",
              "</svg>\n",
              "  </button>\n",
              "\n",
              "<style>\n",
              "  .colab-df-quickchart {\n",
              "      --bg-color: #E8F0FE;\n",
              "      --fill-color: #1967D2;\n",
              "      --hover-bg-color: #E2EBFA;\n",
              "      --hover-fill-color: #174EA6;\n",
              "      --disabled-fill-color: #AAA;\n",
              "      --disabled-bg-color: #DDD;\n",
              "  }\n",
              "\n",
              "  [theme=dark] .colab-df-quickchart {\n",
              "      --bg-color: #3B4455;\n",
              "      --fill-color: #D2E3FC;\n",
              "      --hover-bg-color: #434B5C;\n",
              "      --hover-fill-color: #FFFFFF;\n",
              "      --disabled-bg-color: #3B4455;\n",
              "      --disabled-fill-color: #666;\n",
              "  }\n",
              "\n",
              "  .colab-df-quickchart {\n",
              "    background-color: var(--bg-color);\n",
              "    border: none;\n",
              "    border-radius: 50%;\n",
              "    cursor: pointer;\n",
              "    display: none;\n",
              "    fill: var(--fill-color);\n",
              "    height: 32px;\n",
              "    padding: 0;\n",
              "    width: 32px;\n",
              "  }\n",
              "\n",
              "  .colab-df-quickchart:hover {\n",
              "    background-color: var(--hover-bg-color);\n",
              "    box-shadow: 0 1px 2px rgba(60, 64, 67, 0.3), 0 1px 3px 1px rgba(60, 64, 67, 0.15);\n",
              "    fill: var(--button-hover-fill-color);\n",
              "  }\n",
              "\n",
              "  .colab-df-quickchart-complete:disabled,\n",
              "  .colab-df-quickchart-complete:disabled:hover {\n",
              "    background-color: var(--disabled-bg-color);\n",
              "    fill: var(--disabled-fill-color);\n",
              "    box-shadow: none;\n",
              "  }\n",
              "\n",
              "  .colab-df-spinner {\n",
              "    border: 2px solid var(--fill-color);\n",
              "    border-color: transparent;\n",
              "    border-bottom-color: var(--fill-color);\n",
              "    animation:\n",
              "      spin 1s steps(1) infinite;\n",
              "  }\n",
              "\n",
              "  @keyframes spin {\n",
              "    0% {\n",
              "      border-color: transparent;\n",
              "      border-bottom-color: var(--fill-color);\n",
              "      border-left-color: var(--fill-color);\n",
              "    }\n",
              "    20% {\n",
              "      border-color: transparent;\n",
              "      border-left-color: var(--fill-color);\n",
              "      border-top-color: var(--fill-color);\n",
              "    }\n",
              "    30% {\n",
              "      border-color: transparent;\n",
              "      border-left-color: var(--fill-color);\n",
              "      border-top-color: var(--fill-color);\n",
              "      border-right-color: var(--fill-color);\n",
              "    }\n",
              "    40% {\n",
              "      border-color: transparent;\n",
              "      border-right-color: var(--fill-color);\n",
              "      border-top-color: var(--fill-color);\n",
              "    }\n",
              "    60% {\n",
              "      border-color: transparent;\n",
              "      border-right-color: var(--fill-color);\n",
              "    }\n",
              "    80% {\n",
              "      border-color: transparent;\n",
              "      border-right-color: var(--fill-color);\n",
              "      border-bottom-color: var(--fill-color);\n",
              "    }\n",
              "    90% {\n",
              "      border-color: transparent;\n",
              "      border-bottom-color: var(--fill-color);\n",
              "    }\n",
              "  }\n",
              "</style>\n",
              "\n",
              "  <script>\n",
              "    async function quickchart(key) {\n",
              "      const quickchartButtonEl =\n",
              "        document.querySelector('#' + key + ' button');\n",
              "      quickchartButtonEl.disabled = true;  // To prevent multiple clicks.\n",
              "      quickchartButtonEl.classList.add('colab-df-spinner');\n",
              "      try {\n",
              "        const charts = await google.colab.kernel.invokeFunction(\n",
              "            'suggestCharts', [key], {});\n",
              "      } catch (error) {\n",
              "        console.error('Error during call to suggestCharts:', error);\n",
              "      }\n",
              "      quickchartButtonEl.classList.remove('colab-df-spinner');\n",
              "      quickchartButtonEl.classList.add('colab-df-quickchart-complete');\n",
              "    }\n",
              "    (() => {\n",
              "      let quickchartButtonEl =\n",
              "        document.querySelector('#df-16738dc6-a6ad-4602-b883-a6386d52f752 button');\n",
              "      quickchartButtonEl.style.display =\n",
              "        google.colab.kernel.accessAllowed ? 'block' : 'none';\n",
              "    })();\n",
              "  </script>\n",
              "</div>\n",
              "    </div>\n",
              "  </div>\n"
            ]
          },
          "metadata": {},
          "execution_count": 10
        }
      ]
    },
    {
      "cell_type": "code",
      "source": [
        "len(data)\n"
      ],
      "metadata": {
        "colab": {
          "base_uri": "https://localhost:8080/"
        },
        "id": "qFmyGPpoGwIs",
        "outputId": "8b41e944-bfd5-4dfd-cf1f-41e076e8450a"
      },
      "execution_count": null,
      "outputs": [
        {
          "output_type": "execute_result",
          "data": {
            "text/plain": [
              "4479"
            ]
          },
          "metadata": {},
          "execution_count": 13
        }
      ]
    },
    {
      "cell_type": "code",
      "source": [
        "random.shuffle(data)"
      ],
      "metadata": {
        "id": "uCD9k8T4HFQ_"
      },
      "execution_count": null,
      "outputs": []
    },
    {
      "cell_type": "code",
      "source": [
        "data[0]"
      ],
      "metadata": {
        "colab": {
          "base_uri": "https://localhost:8080/"
        },
        "id": "rBO53kE2HINO",
        "outputId": "99db6139-3f2d-42ec-9de4-b39adfaccc58"
      },
      "execution_count": null,
      "outputs": [
        {
          "output_type": "execute_result",
          "data": {
            "text/plain": [
              "[array([[[ 0,  0,  0],\n",
              "         [ 0,  0,  0],\n",
              "         [ 0,  0,  0],\n",
              "         ...,\n",
              "         [ 0,  0,  0],\n",
              "         [ 0,  0,  0],\n",
              "         [ 3,  3,  3]],\n",
              " \n",
              "        [[ 0,  0,  0],\n",
              "         [ 0,  0,  0],\n",
              "         [ 0,  0,  0],\n",
              "         ...,\n",
              "         [ 0,  0,  0],\n",
              "         [ 0,  0,  0],\n",
              "         [ 0,  0,  0]],\n",
              " \n",
              "        [[ 0,  0,  0],\n",
              "         [ 0,  0,  0],\n",
              "         [ 0,  0,  0],\n",
              "         ...,\n",
              "         [ 0,  0,  0],\n",
              "         [ 0,  0,  0],\n",
              "         [ 0,  0,  0]],\n",
              " \n",
              "        ...,\n",
              " \n",
              "        [[ 0,  0,  0],\n",
              "         [ 0,  0,  0],\n",
              "         [ 0,  0,  0],\n",
              "         ...,\n",
              "         [ 0,  0,  0],\n",
              "         [ 0,  0,  0],\n",
              "         [ 0,  0,  0]],\n",
              " \n",
              "        [[31, 31, 31],\n",
              "         [25, 25, 25],\n",
              "         [61, 61, 61],\n",
              "         ...,\n",
              "         [67, 67, 67],\n",
              "         [ 2,  2,  2],\n",
              "         [ 2,  2,  2]],\n",
              " \n",
              "        [[ 0,  0,  0],\n",
              "         [ 0,  0,  0],\n",
              "         [ 0,  0,  0],\n",
              "         ...,\n",
              "         [ 0,  0,  0],\n",
              "         [ 0,  0,  0],\n",
              "         [ 2,  2,  2]]], dtype=uint8),\n",
              " 1]"
            ]
          },
          "metadata": {},
          "execution_count": 15
        }
      ]
    },
    {
      "cell_type": "code",
      "source": [
        "X=[]\n",
        "Y=[]"
      ],
      "metadata": {
        "id": "2KX-cOsQHJRW"
      },
      "execution_count": null,
      "outputs": []
    },
    {
      "cell_type": "code",
      "source": [
        "for features,labels in data:\n",
        "  X.append(features)\n",
        "  Y.append(labels)"
      ],
      "metadata": {
        "id": "8qi6W7wLHMim"
      },
      "execution_count": null,
      "outputs": []
    },
    {
      "cell_type": "code",
      "source": [
        "x=np.array(X)\n",
        "y=np.array(Y)"
      ],
      "metadata": {
        "id": "gBD0ZrvFHT9u"
      },
      "execution_count": null,
      "outputs": []
    },
    {
      "cell_type": "code",
      "source": [
        "pickle.dump(x,open('x.pkl','wb'))\n",
        "pickle.dump(y,open('y.pkl','wb'))"
      ],
      "metadata": {
        "id": "bhUyHTRIHZWt"
      },
      "execution_count": null,
      "outputs": []
    },
    {
      "cell_type": "code",
      "source": [
        "import pickle"
      ],
      "metadata": {
        "id": "10912dB2Hqx1"
      },
      "execution_count": null,
      "outputs": []
    },
    {
      "cell_type": "code",
      "source": [
        "x1=pickle.load(open('x.pkl','rb'))\n",
        "y1=pickle.load(open('y.pkl','rb'))"
      ],
      "metadata": {
        "id": "-02ZIRsTHtTl"
      },
      "execution_count": null,
      "outputs": []
    },
    {
      "cell_type": "code",
      "source": [
        "x1=x/255"
      ],
      "metadata": {
        "id": "gFfB7e11H7W7"
      },
      "execution_count": null,
      "outputs": []
    },
    {
      "cell_type": "code",
      "source": [
        "x1.shape"
      ],
      "metadata": {
        "colab": {
          "base_uri": "https://localhost:8080/"
        },
        "id": "P5LdmdlmH9EL",
        "outputId": "0d602ff0-7f1f-4c45-d028-bdb7dfb52ffb"
      },
      "execution_count": null,
      "outputs": [
        {
          "output_type": "execute_result",
          "data": {
            "text/plain": [
              "(4479, 100, 100, 3)"
            ]
          },
          "metadata": {},
          "execution_count": 23
        }
      ]
    },
    {
      "cell_type": "code",
      "source": [],
      "metadata": {
        "id": "wVhAkDqWH-vb"
      },
      "execution_count": null,
      "outputs": []
    },
    {
      "cell_type": "code",
      "source": [
        "from tensorflow.keras import layers\n",
        "from tensorflow.keras import models"
      ],
      "metadata": {
        "id": "XbHdw551IAp0"
      },
      "execution_count": null,
      "outputs": []
    },
    {
      "cell_type": "code",
      "source": [
        "model=models.Sequential()\n",
        "model.add(layers.Conv2D(32,(3, 3),activation='relu',input_shape=(100, 100, 3)))\n",
        "model.add(layers.MaxPooling2D((2,2)))\n",
        "model.add(layers.Conv2D(64,(3,3),activation='relu'))\n",
        "model.add(layers.MaxPooling2D((2,2)))\n",
        "model.add(layers.Conv2D(64,(3,3),activation='relu'))\n",
        "model.summary()\n"
      ],
      "metadata": {
        "id": "rGZHqY8pIFBL",
        "colab": {
          "base_uri": "https://localhost:8080/"
        },
        "outputId": "a48a6d4a-b4ca-4c2d-fa72-7e47f5adb91c"
      },
      "execution_count": null,
      "outputs": [
        {
          "output_type": "stream",
          "name": "stdout",
          "text": [
            "Model: \"sequential_1\"\n",
            "_________________________________________________________________\n",
            " Layer (type)                Output Shape              Param #   \n",
            "=================================================================\n",
            " conv2d (Conv2D)             (None, 98, 98, 32)        896       \n",
            "                                                                 \n",
            " max_pooling2d (MaxPooling2  (None, 49, 49, 32)        0         \n",
            " D)                                                              \n",
            "                                                                 \n",
            " conv2d_1 (Conv2D)           (None, 47, 47, 64)        18496     \n",
            "                                                                 \n",
            " max_pooling2d_1 (MaxPoolin  (None, 23, 23, 64)        0         \n",
            " g2D)                                                            \n",
            "                                                                 \n",
            " conv2d_2 (Conv2D)           (None, 21, 21, 64)        36928     \n",
            "                                                                 \n",
            "=================================================================\n",
            "Total params: 56320 (220.00 KB)\n",
            "Trainable params: 56320 (220.00 KB)\n",
            "Non-trainable params: 0 (0.00 Byte)\n",
            "_________________________________________________________________\n"
          ]
        }
      ]
    },
    {
      "cell_type": "code",
      "source": [
        "model.add(layers.Flatten())\n",
        "model.add(layers.Dense(4096,activation='relu'))\n",
        "model.add(layers.Dense(2000,activation='relu'))\n",
        "model.add(layers.Dense(900,activation='relu'))\n",
        "model.add(layers.Dense(64,activation='softmax'))\n"
      ],
      "metadata": {
        "id": "0NDeoW-nMk52"
      },
      "execution_count": null,
      "outputs": []
    },
    {
      "cell_type": "code",
      "source": [
        "model.compile(optimizer='adam',loss='sparse_categorical_crossentropy',metrics=['accuracy'])\n"
      ],
      "metadata": {
        "id": "2To8wFgcPfzL"
      },
      "execution_count": null,
      "outputs": []
    },
    {
      "cell_type": "code",
      "source": [
        "model.fit(x1,y1,epochs=5,validation_split=0.2)"
      ],
      "metadata": {
        "id": "lR70fZePidLO",
        "colab": {
          "base_uri": "https://localhost:8080/"
        },
        "outputId": "f6a3011c-0c9b-4da1-d78d-ebb209b91ac2"
      },
      "execution_count": null,
      "outputs": [
        {
          "output_type": "stream",
          "name": "stdout",
          "text": [
            "Epoch 1/5\n",
            "112/112 [==============================] - 18s 55ms/step - loss: 1.2621 - accuracy: 0.5066 - val_loss: 0.7607 - val_accuracy: 0.6518\n",
            "Epoch 2/5\n",
            "112/112 [==============================] - 5s 47ms/step - loss: 0.4449 - accuracy: 0.8183 - val_loss: 0.2614 - val_accuracy: 0.8951\n",
            "Epoch 3/5\n",
            "112/112 [==============================] - 5s 47ms/step - loss: 0.2024 - accuracy: 0.9260 - val_loss: 0.2502 - val_accuracy: 0.9051\n",
            "Epoch 4/5\n",
            "112/112 [==============================] - 5s 49ms/step - loss: 0.1357 - accuracy: 0.9467 - val_loss: 0.1736 - val_accuracy: 0.9375\n",
            "Epoch 5/5\n",
            "112/112 [==============================] - 5s 45ms/step - loss: 0.0731 - accuracy: 0.9718 - val_loss: 0.1571 - val_accuracy: 0.9397\n"
          ]
        },
        {
          "output_type": "execute_result",
          "data": {
            "text/plain": [
              "<keras.src.callbacks.History at 0x7c16e024db40>"
            ]
          },
          "metadata": {},
          "execution_count": 35
        }
      ]
    },
    {
      "cell_type": "code",
      "source": [
        "p=model.predict(x1[4:5])\n",
        "p"
      ],
      "metadata": {
        "colab": {
          "base_uri": "https://localhost:8080/"
        },
        "id": "KYHT__0YN8RK",
        "outputId": "d4f5f0a4-8169-4962-ec6e-5b8c655e1355"
      },
      "execution_count": null,
      "outputs": [
        {
          "output_type": "stream",
          "name": "stdout",
          "text": [
            "1/1 [==============================] - 0s 125ms/step\n"
          ]
        },
        {
          "output_type": "execute_result",
          "data": {
            "text/plain": [
              "array([[5.2019320e-03, 9.9409419e-01, 6.9995271e-04, 1.3144718e-07,\n",
              "        5.3268735e-08, 8.0721478e-08, 2.5629319e-07, 3.3938484e-08,\n",
              "        3.5393104e-08, 7.7354322e-08, 1.2709738e-07, 6.1977182e-08,\n",
              "        3.6489169e-08, 6.3672786e-08, 8.5434202e-08, 3.8963691e-08,\n",
              "        4.7276913e-08, 1.6998779e-08, 1.3902336e-07, 3.0055332e-08,\n",
              "        2.3499894e-08, 9.0464489e-08, 7.8006082e-08, 4.9670390e-08,\n",
              "        3.4930892e-08, 7.5258491e-08, 5.8056063e-08, 2.8257967e-08,\n",
              "        4.7063864e-08, 7.8178125e-08, 7.4748627e-08, 3.2867653e-08,\n",
              "        3.0941216e-08, 8.1150787e-08, 6.0894585e-08, 7.5279019e-08,\n",
              "        6.7104892e-08, 3.4382911e-08, 4.1497444e-08, 6.2174323e-08,\n",
              "        6.0273138e-08, 7.1465493e-08, 4.0124842e-08, 4.6821576e-08,\n",
              "        5.8305744e-08, 5.9837639e-08, 6.5567292e-08, 4.3206850e-08,\n",
              "        5.8950636e-08, 5.6322158e-08, 1.2228119e-07, 4.1512326e-08,\n",
              "        1.5670166e-08, 5.5462294e-08, 5.6444325e-08, 6.8736085e-08,\n",
              "        1.6818892e-07, 4.4771895e-08, 7.2337151e-08, 7.9614892e-08,\n",
              "        6.3000272e-08, 5.5760665e-08, 5.0127991e-08, 7.8577116e-08]],\n",
              "      dtype=float32)"
            ]
          },
          "metadata": {},
          "execution_count": 37
        }
      ]
    },
    {
      "cell_type": "code",
      "source": [
        "p[0]"
      ],
      "metadata": {
        "colab": {
          "base_uri": "https://localhost:8080/"
        },
        "id": "yiGzfdWiONgK",
        "outputId": "1b3bbc2e-b529-4b06-e6f5-94f22cd757a1"
      },
      "execution_count": null,
      "outputs": [
        {
          "output_type": "execute_result",
          "data": {
            "text/plain": [
              "array([5.2019320e-03, 9.9409419e-01, 6.9995271e-04, 1.3144718e-07,\n",
              "       5.3268735e-08, 8.0721478e-08, 2.5629319e-07, 3.3938484e-08,\n",
              "       3.5393104e-08, 7.7354322e-08, 1.2709738e-07, 6.1977182e-08,\n",
              "       3.6489169e-08, 6.3672786e-08, 8.5434202e-08, 3.8963691e-08,\n",
              "       4.7276913e-08, 1.6998779e-08, 1.3902336e-07, 3.0055332e-08,\n",
              "       2.3499894e-08, 9.0464489e-08, 7.8006082e-08, 4.9670390e-08,\n",
              "       3.4930892e-08, 7.5258491e-08, 5.8056063e-08, 2.8257967e-08,\n",
              "       4.7063864e-08, 7.8178125e-08, 7.4748627e-08, 3.2867653e-08,\n",
              "       3.0941216e-08, 8.1150787e-08, 6.0894585e-08, 7.5279019e-08,\n",
              "       6.7104892e-08, 3.4382911e-08, 4.1497444e-08, 6.2174323e-08,\n",
              "       6.0273138e-08, 7.1465493e-08, 4.0124842e-08, 4.6821576e-08,\n",
              "       5.8305744e-08, 5.9837639e-08, 6.5567292e-08, 4.3206850e-08,\n",
              "       5.8950636e-08, 5.6322158e-08, 1.2228119e-07, 4.1512326e-08,\n",
              "       1.5670166e-08, 5.5462294e-08, 5.6444325e-08, 6.8736085e-08,\n",
              "       1.6818892e-07, 4.4771895e-08, 7.2337151e-08, 7.9614892e-08,\n",
              "       6.3000272e-08, 5.5760665e-08, 5.0127991e-08, 7.8577116e-08],\n",
              "      dtype=float32)"
            ]
          },
          "metadata": {},
          "execution_count": 38
        }
      ]
    },
    {
      "cell_type": "code",
      "source": [],
      "metadata": {
        "id": "IZ956Vy_OUVS"
      },
      "execution_count": null,
      "outputs": []
    }
  ]
}