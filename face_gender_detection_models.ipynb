{
  "nbformat": 4,
  "nbformat_minor": 0,
  "metadata": {
    "colab": {
      "provenance": [],
      "authorship_tag": "ABX9TyM6QoD5OlQQomlPYDcdpSb3",
      "include_colab_link": true
    },
    "kernelspec": {
      "name": "python3",
      "display_name": "Python 3"
    },
    "language_info": {
      "name": "python"
    }
  },
  "cells": [
    {
      "cell_type": "markdown",
      "metadata": {
        "id": "view-in-github",
        "colab_type": "text"
      },
      "source": [
        "<a href=\"https://colab.research.google.com/github/MuhammadBasilKhan/Deep-learning-medical-classification/blob/main/face_gender_detection_models.ipynb\" target=\"_parent\"><img src=\"https://colab.research.google.com/assets/colab-badge.svg\" alt=\"Open In Colab\"/></a>"
      ]
    },
    {
      "cell_type": "code",
      "execution_count": null,
      "metadata": {
        "colab": {
          "base_uri": "https://localhost:8080/"
        },
        "id": "XXAOD0VlYRbQ",
        "outputId": "667fc8f6-1f2d-4eb9-acd1-901abcf82281"
      },
      "outputs": [
        {
          "output_type": "stream",
          "name": "stdout",
          "text": [
            "Drive already mounted at /content/gdrive; to attempt to forcibly remount, call drive.mount(\"/content/gdrive\", force_remount=True).\n"
          ]
        }
      ],
      "source": [
        "from google.colab import drive\n",
        "\n",
        "# Mount Google Drive\n",
        "drive.mount('/content/gdrive')\n"
      ]
    },
    {
      "cell_type": "code",
      "source": [
        "from tensorflow.keras.applications import MobileNetV2\n",
        "from tensorflow.keras.layers import AveragePooling2D\n",
        "from tensorflow.keras.layers import Dropout\n",
        "from tensorflow.keras.layers import Flatten\n",
        "from tensorflow.keras.layers import Dense\n",
        "from tensorflow.keras.layers import Input\n",
        "from tensorflow.keras.models import Model\n",
        "from tensorflow.keras.optimizers import Adam\n",
        "from tensorflow.keras.applications.mobilenet_v2 import preprocess_input\n",
        "from tensorflow.keras.preprocessing.image import img_to_array\n",
        "from tensorflow.keras.preprocessing.image import load_img\n",
        "from tensorflow.keras.utils import to_categorical\n",
        "from sklearn.preprocessing import LabelBinarizer\n",
        "from sklearn.model_selection import train_test_split\n",
        "from sklearn.metrics import classification_report\n",
        "from imutils import paths\n",
        "import matplotlib.pyplot as plt\n",
        "import numpy as np\n",
        "\n",
        "import os\n",
        "\n"
      ],
      "metadata": {
        "id": "Rw8fxVXPY-kZ"
      },
      "execution_count": null,
      "outputs": []
    },
    {
      "cell_type": "code",
      "source": [
        "INIT_LR=1e-4\n",
        "EPOCHS=20\n",
        "BS=32\n",
        "Directory='/content/gdrive/MyDrive/gender/Male and Female face dataset'\n",
        "categories=['Female Faces','Male Faces']\n",
        "data=[]\n",
        "labels=[]"
      ],
      "metadata": {
        "id": "CIDOlHllazIT"
      },
      "execution_count": null,
      "outputs": []
    },
    {
      "cell_type": "code",
      "source": [
        "for category in categories:\n",
        "  path=os.path.join(Directory,category)\n",
        "  for img in os.listdir(path):\n",
        "    img_path=os.path.join(path,img)\n",
        "    image=load_img(img_path,target_size=(224,224))\n",
        "    image=img_to_array(image)\n",
        "    image=preprocess_input(image)\n",
        "    data.append(image)\n",
        "    labels.append(category)"
      ],
      "metadata": {
        "colab": {
          "base_uri": "https://localhost:8080/"
        },
        "id": "VOmdXHy6eacy",
        "outputId": "8905a0ca-03ae-4ef9-ebc4-7969ced43cdc"
      },
      "execution_count": null,
      "outputs": [
        {
          "output_type": "stream",
          "name": "stderr",
          "text": [
            "/usr/local/lib/python3.10/dist-packages/PIL/Image.py:996: UserWarning: Palette images with Transparency expressed in bytes should be converted to RGBA images\n",
            "  warnings.warn(\n"
          ]
        }
      ]
    },
    {
      "cell_type": "code",
      "source": [
        "lb = LabelBinarizer()\n",
        "labels = lb.fit_transform(labels)\n",
        "labels = to_categorical(labels)\n",
        "\n",
        "data = np.array(data,dtype =\"float32\")\n",
        "labels = np.array(labels)\n",
        "(trainX,testX,trainY,testY) = train_test_split(data, labels,\n",
        "                                               test_size=0.20, stratify=labels, random_state=42)\n"
      ],
      "metadata": {
        "id": "IFBZJ5hS0STW"
      },
      "execution_count": null,
      "outputs": []
    },
    {
      "cell_type": "code",
      "source": [
        "from tensorflow.keras.preprocessing.image import ImageDataGenerator\n",
        "aug = ImageDataGenerator(\n",
        "    rotation_range=20,\n",
        "    zoom_range=0.15,\n",
        "    width_shift_range=0.2,\n",
        "    height_shift_range=0.2,\n",
        "    shear_range=0.15,\n",
        "    horizontal_flip=True,\n",
        "    fill_mode=\"nearest\")\n"
      ],
      "metadata": {
        "id": "cjD6n2fL1MyS"
      },
      "execution_count": null,
      "outputs": []
    },
    {
      "cell_type": "code",
      "source": [
        "baseModel = MobileNetV2(weights=\"imagenet\", include_top=False,\n",
        "\tinput_tensor=Input(shape=(224, 224, 3)))\n"
      ],
      "metadata": {
        "colab": {
          "base_uri": "https://localhost:8080/"
        },
        "id": "5e5NMt892Xbg",
        "outputId": "07ddb290-1669-4ae8-e77d-e30197fdde4b"
      },
      "execution_count": null,
      "outputs": [
        {
          "output_type": "stream",
          "name": "stderr",
          "text": [
            "WARNING:tensorflow:`input_shape` is undefined or non-square, or `rows` is not in [96, 128, 160, 192, 224]. Weights for input shape (224, 224) will be loaded as the default.\n"
          ]
        }
      ]
    },
    {
      "cell_type": "code",
      "source": [
        "headModel = baseModel.output\n",
        "headModel = AveragePooling2D(pool_size=(7, 7))(headModel)\n",
        "headModel = Flatten(name=\"flatten\")(headModel)\n",
        "headModel = Dense(128, activation=\"relu\")(headModel)\n",
        "headModel = Dropout(0.5)(headModel)\n",
        "headModel = Dense(2, activation=\"softmax\")(headModel)"
      ],
      "metadata": {
        "id": "wwAe0Z3L37Pq"
      },
      "execution_count": null,
      "outputs": []
    },
    {
      "cell_type": "code",
      "source": [
        "model = Model(inputs=baseModel.input, outputs=headModel)"
      ],
      "metadata": {
        "id": "7Jpy3zl64c0o"
      },
      "execution_count": null,
      "outputs": []
    },
    {
      "cell_type": "code",
      "source": [
        "for layer in baseModel.layers:\n",
        "\tlayer.trainable = False"
      ],
      "metadata": {
        "id": "hLpKl6fm4qC_"
      },
      "execution_count": null,
      "outputs": []
    },
    {
      "cell_type": "code",
      "source": [
        "from tensorflow.keras.optimizers import Adam\n",
        "from tensorflow.keras.optimizers.schedules import ExponentialDecay\n",
        "\n",
        "\n",
        "INIT_LR = 0.001\n",
        "EPOCHS = 10\n",
        "\n",
        "\n",
        "lr_schedule = ExponentialDecay(initial_learning_rate=INIT_LR, decay_steps=10000, decay_rate=0.9)\n",
        "\n",
        "opt = Adam(learning_rate=lr_schedule)\n",
        "model.compile(loss=\"binary_crossentropy\", optimizer=opt, metrics=[\"accuracy\"])\n"
      ],
      "metadata": {
        "id": "7R_fJO4p5hk2"
      },
      "execution_count": null,
      "outputs": []
    },
    {
      "cell_type": "code",
      "source": [
        "print(\"[INFO] training head...\")\n",
        "H = model.fit(\n",
        "\taug.flow(trainX, trainY, batch_size=BS),\n",
        "\tsteps_per_epoch=len(trainX) // BS,\n",
        "\tvalidation_data=(testX, testY),\n",
        "\tvalidation_steps=len(testX) // BS,\n",
        "\tepochs=EPOCHS)"
      ],
      "metadata": {
        "colab": {
          "base_uri": "https://localhost:8080/"
        },
        "id": "PK6RcygF6T0m",
        "outputId": "73e24e02-9327-4e07-cdde-10ed4f27175f"
      },
      "execution_count": null,
      "outputs": [
        {
          "output_type": "stream",
          "name": "stdout",
          "text": [
            "[INFO] training head...\n",
            "Epoch 1/10\n",
            "135/135 [==============================] - 256s 2s/step - loss: 0.3344 - accuracy: 0.8536 - val_loss: 0.1934 - val_accuracy: 0.9179\n",
            "Epoch 2/10\n",
            "135/135 [==============================] - 235s 2s/step - loss: 0.2270 - accuracy: 0.9056 - val_loss: 0.1639 - val_accuracy: 0.9373\n",
            "Epoch 3/10\n",
            "135/135 [==============================] - 242s 2s/step - loss: 0.1999 - accuracy: 0.9221 - val_loss: 0.1625 - val_accuracy: 0.9327\n",
            "Epoch 4/10\n",
            "135/135 [==============================] - 240s 2s/step - loss: 0.1878 - accuracy: 0.9240 - val_loss: 0.1442 - val_accuracy: 0.9391\n",
            "Epoch 5/10\n",
            "135/135 [==============================] - 242s 2s/step - loss: 0.1677 - accuracy: 0.9340 - val_loss: 0.1328 - val_accuracy: 0.9446\n",
            "Epoch 6/10\n",
            "135/135 [==============================] - 236s 2s/step - loss: 0.1632 - accuracy: 0.9414 - val_loss: 0.1540 - val_accuracy: 0.9354\n",
            "Epoch 7/10\n",
            "135/135 [==============================] - 235s 2s/step - loss: 0.1565 - accuracy: 0.9372 - val_loss: 0.1236 - val_accuracy: 0.9548\n",
            "Epoch 8/10\n",
            "135/135 [==============================] - 242s 2s/step - loss: 0.1346 - accuracy: 0.9486 - val_loss: 0.1125 - val_accuracy: 0.9566\n",
            "Epoch 9/10\n",
            "135/135 [==============================] - 240s 2s/step - loss: 0.1268 - accuracy: 0.9477 - val_loss: 0.1116 - val_accuracy: 0.9548\n",
            "Epoch 10/10\n",
            "135/135 [==============================] - 245s 2s/step - loss: 0.1318 - accuracy: 0.9444 - val_loss: 0.1064 - val_accuracy: 0.9576\n"
          ]
        }
      ]
    },
    {
      "cell_type": "code",
      "source": [
        "print(\"[INFO] evaluating network...\")\n",
        "predIdxs = model.predict(testX, batch_size=BS)"
      ],
      "metadata": {
        "id": "ZDPKJVwl78KG",
        "colab": {
          "base_uri": "https://localhost:8080/"
        },
        "outputId": "113ca0d8-88eb-4e96-95c1-c6bf0b58fb6b"
      },
      "execution_count": null,
      "outputs": [
        {
          "output_type": "stream",
          "name": "stdout",
          "text": [
            "[INFO] evaluating network...\n",
            "34/34 [==============================] - 42s 1s/step\n"
          ]
        }
      ]
    },
    {
      "cell_type": "code",
      "source": [
        "predIdxs = np.argmax(predIdxs, axis=1)"
      ],
      "metadata": {
        "id": "biIet-iAGk3R"
      },
      "execution_count": null,
      "outputs": []
    },
    {
      "cell_type": "code",
      "source": [
        "print(classification_report(testY.argmax(axis=1), predIdxs,\n",
        "\ttarget_names=lb.classes_))\n"
      ],
      "metadata": {
        "colab": {
          "base_uri": "https://localhost:8080/"
        },
        "id": "UJ0O1UEDGnKw",
        "outputId": "f14a105d-5071-4abd-f914-ede858475b72"
      },
      "execution_count": null,
      "outputs": [
        {
          "output_type": "stream",
          "name": "stdout",
          "text": [
            "              precision    recall  f1-score   support\n",
            "\n",
            "Female Faces       0.99      0.92      0.96       540\n",
            "  Male Faces       0.93      0.99      0.96       544\n",
            "\n",
            "    accuracy                           0.96      1084\n",
            "   macro avg       0.96      0.96      0.96      1084\n",
            "weighted avg       0.96      0.96      0.96      1084\n",
            "\n"
          ]
        }
      ]
    },
    {
      "cell_type": "code",
      "source": [
        "print(\"[INFO] saving mask detector model...\")\n",
        "model.save(\"mask_detector.model\", save_format=\"h5\")"
      ],
      "metadata": {
        "colab": {
          "base_uri": "https://localhost:8080/"
        },
        "id": "ifYUor-uGpx3",
        "outputId": "0055fbf2-025e-402b-a2ac-efb0247d39be"
      },
      "execution_count": null,
      "outputs": [
        {
          "output_type": "stream",
          "name": "stdout",
          "text": [
            "[INFO] saving mask detector model...\n"
          ]
        },
        {
          "output_type": "stream",
          "name": "stderr",
          "text": [
            "/usr/local/lib/python3.10/dist-packages/keras/src/engine/training.py:3079: UserWarning: You are saving your model as an HDF5 file via `model.save()`. This file format is considered legacy. We recommend using instead the native Keras format, e.g. `model.save('my_model.keras')`.\n",
            "  saving_api.save_model(\n"
          ]
        }
      ]
    },
    {
      "cell_type": "code",
      "source": [
        "N = EPOCHS\n",
        "plt.style.use(\"ggplot\")\n",
        "plt.figure()\n",
        "plt.plot(np.arange(0, N), H.history[\"loss\"], label=\"train_loss\")\n",
        "plt.plot(np.arange(0, N), H.history[\"val_loss\"], label=\"val_loss\")\n",
        "plt.plot(np.arange(0, N), H.history[\"accuracy\"], label=\"train_acc\")\n",
        "plt.plot(np.arange(0, N), H.history[\"val_accuracy\"], label=\"val_acc\")\n",
        "plt.title(\"Training Loss and Accuracy\")\n",
        "plt.xlabel(\"Epoch #\")\n",
        "plt.ylabel(\"Loss/Accuracy\")\n",
        "plt.legend(loc=\"lower left\")\n",
        "plt.savefig(\"plot.png\")"
      ],
      "metadata": {
        "colab": {
          "base_uri": "https://localhost:8080/",
          "height": 477
        },
        "id": "bLQP9swFG7EQ",
        "outputId": "ea87c5f9-bdfd-4693-d81a-58c3e73c618d"
      },
      "execution_count": null,
      "outputs": [
        {
          "output_type": "display_data",
          "data": {
            "text/plain": [
              "<Figure size 640x480 with 1 Axes>"
            ],
            "image/png": "[encoded data removed]"
          },
          "metadata": {}
        }
      ]
    },
    {
      "cell_type": "code",
      "source": [],
      "metadata": {
        "id": "RVNLHNAfIPrH"
      },
      "execution_count": null,
      "outputs": []
    }
  ]
}